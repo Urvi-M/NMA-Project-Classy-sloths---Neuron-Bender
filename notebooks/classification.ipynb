{
 "cells": [
  {
   "cell_type": "code",
   "execution_count": 44,
   "metadata": {
    "execution": {
     "iopub.execute_input": "2021-07-15T16:14:58.816912Z",
     "iopub.status.busy": "2021-07-15T16:14:58.816203Z",
     "iopub.status.idle": "2021-07-15T16:14:59.189869Z",
     "shell.execute_reply": "2021-07-15T16:14:59.176642Z",
     "shell.execute_reply.started": "2021-07-15T16:14:58.816862Z"
    }
   },
   "outputs": [
    {
     "name": "stdout",
     "output_type": "stream",
     "text": [
      "The autoreload extension is already loaded. To reload it, use:\n",
      "  %reload_ext autoreload\n"
     ]
    }
   ],
   "source": [
    "%load_ext autoreload\n",
    "%autoreload 2\n",
    "\n",
    "import sys, os\n",
    "sys.path.append('../')\n",
    "\n",
    "import numpy as np\n",
    "import matplotlib.pyplot as plt\n",
    "from sklearn import svm\n",
    "from sklearn.model_selection import train_test_split, cross_val_score\n",
    "from sklearn.metrics import confusion_matrix\n",
    "\n",
    "from utils.load_data import alldat, pre_process, comp_avg_signal\n",
    "from utils.algo import sliding_window"
   ]
  },
  {
   "cell_type": "code",
   "execution_count": 63,
   "metadata": {
    "execution": {
     "iopub.execute_input": "2021-07-16T16:27:58.662873Z",
     "iopub.status.busy": "2021-07-16T16:27:58.662378Z",
     "iopub.status.idle": "2021-07-16T16:28:19.239129Z",
     "shell.execute_reply": "2021-07-16T16:28:19.236417Z",
     "shell.execute_reply.started": "2021-07-16T16:27:58.662803Z"
    }
   },
   "outputs": [],
   "source": [
    "filter_overt = pre_process(subj=0, exp=0, hpf=50)\n",
    "filter_imag = pre_process(subj=0, exp=1, hpf=50)\n",
    "sample_overt = comp_avg_signal(filter_overt, [500, 1500], 'hand')\n",
    "sample_imag = comp_avg_signal(filter_imag, [500, 1500], 'hand')\n",
    "signals = {'overt': sample_overt, 'imag': sample_imag}"
   ]
  },
  {
   "cell_type": "code",
   "execution_count": 66,
   "metadata": {
    "execution": {
     "iopub.execute_input": "2021-07-16T16:28:57.322616Z",
     "iopub.status.busy": "2021-07-16T16:28:57.318957Z",
     "iopub.status.idle": "2021-07-16T16:28:57.448585Z",
     "shell.execute_reply": "2021-07-16T16:28:57.443189Z",
     "shell.execute_reply.started": "2021-07-16T16:28:57.322564Z"
    }
   },
   "outputs": [],
   "source": [
    "def prepare_data(data, cv, **window_kwargs):\n",
    "    \"\"\"\n",
    "    data: dictionary of shape: \n",
    "            {'overt': overt_data, 'imag': imag_data}\n",
    "    cv: % test data\n",
    "    labels: 0 is overt, 1 imag\n",
    "    \"\"\"\n",
    "    _label_map = {'overt':0,'imag':1}\n",
    "    all_features = []\n",
    "    all_labels = []\n",
    "    for chan in range(46):\n",
    "        for k in signals.keys():\n",
    "            windows = sliding_window(signals[k][:,chan], **window_kwargs)\n",
    "            [all_features.append(w) for w in windows]\n",
    "            [all_labels.append(_label_map[k]) for i in range(len(windows))]\n",
    "    if cv:\n",
    "        X_train, X_test, y_train, y_test = train_test_split(all_features, all_labels, test_size=cv)\n",
    "        return X_train, X_test, y_train, y_test\n",
    "    else:\n",
    "        return all_features, all_labels\n",
    "\n",
    "X_train, X_test, y_train, y_test =  prepare_data(signals, 0.1, win=int(250))\n",
    "X, y =  prepare_data(signals, None, win=int(250))"
   ]
  },
  {
   "cell_type": "code",
   "execution_count": 70,
   "metadata": {
    "execution": {
     "iopub.execute_input": "2021-07-16T16:35:30.710932Z",
     "iopub.status.busy": "2021-07-16T16:35:30.710223Z",
     "iopub.status.idle": "2021-07-16T16:35:33.914303Z",
     "shell.execute_reply": "2021-07-16T16:35:33.912146Z",
     "shell.execute_reply.started": "2021-07-16T16:35:30.710656Z"
    }
   },
   "outputs": [
    {
     "name": "stdout",
     "output_type": "stream",
     "text": [
      "50 0.6777931034482758\n",
      "100 0.6917866588304438\n",
      "150 0.7282608695652174\n",
      "200 0.7277777777777777\n",
      "250 0.7772486772486772\n",
      "300 0.793859649122807\n",
      "350 0.7588888888888888\n",
      "400 0.77\n",
      "450 0.77\n",
      "500 0.7622222222222221\n"
     ]
    }
   ],
   "source": [
    "for w in np.arange(50,1000, 50):\n",
    "    try:\n",
    "        X, y =  prepare_data(signals, None, win=int(w))\n",
    "        print(w, cross_val_score(clf, X, y, cv=5, scoring='recall_macro').mean(0))\n",
    "    except: pass"
   ]
  },
  {
   "cell_type": "code",
   "execution_count": 67,
   "metadata": {
    "execution": {
     "iopub.execute_input": "2021-07-16T16:28:57.865742Z",
     "iopub.status.busy": "2021-07-16T16:28:57.865110Z",
     "iopub.status.idle": "2021-07-16T16:28:58.372500Z",
     "shell.execute_reply": "2021-07-16T16:28:58.369437Z",
     "shell.execute_reply.started": "2021-07-16T16:28:57.865694Z"
    }
   },
   "outputs": [
    {
     "data": {
      "text/plain": [
       "0.7772486772486772"
      ]
     },
     "execution_count": 67,
     "metadata": {},
     "output_type": "execute_result"
    }
   ],
   "source": [
    "clf = svm.SVC()\n",
    "clf.fit(X_train, y_train)\n",
    "\n",
    "\n",
    "scores = cross_val_score(clf, X, y, cv=5, scoring='recall_macro')\n",
    "scores.mean(0)"
   ]
  },
  {
   "cell_type": "code",
   "execution_count": 45,
   "metadata": {
    "execution": {
     "iopub.execute_input": "2021-07-15T16:15:39.310074Z",
     "iopub.status.busy": "2021-07-15T16:15:39.308182Z",
     "iopub.status.idle": "2021-07-15T16:15:39.626542Z",
     "shell.execute_reply": "2021-07-15T16:15:39.624856Z",
     "shell.execute_reply.started": "2021-07-15T16:15:39.309992Z"
    }
   },
   "outputs": [],
   "source": [
    "conf_mat =  confusion_matrix(clf.predict(X_test), y_test)"
   ]
  },
  {
   "cell_type": "code",
   "execution_count": 47,
   "metadata": {
    "execution": {
     "iopub.execute_input": "2021-07-15T16:16:00.398496Z",
     "iopub.status.busy": "2021-07-15T16:16:00.398163Z",
     "iopub.status.idle": "2021-07-15T16:16:01.912543Z",
     "shell.execute_reply": "2021-07-15T16:16:01.910729Z",
     "shell.execute_reply.started": "2021-07-15T16:16:00.398460Z"
    }
   },
   "outputs": [
    {
     "data": {
      "text/plain": [
       "<matplotlib.colorbar.Colorbar at 0x7fba06faa2d0>"
      ]
     },
     "execution_count": 47,
     "metadata": {},
     "output_type": "execute_result"
    },
    {
     "data": {
      "image/png": "[encoded data removed]",
      "text/plain": [
       "<Figure size 432x288 with 2 Axes>"
      ]
     },
     "metadata": {
      "needs_background": "light"
     },
     "output_type": "display_data"
    }
   ],
   "source": [
    "plt.imshow(conf_mat);\n",
    "plt.colorbar()"
   ]
  },
  {
   "cell_type": "code",
   "execution_count": 48,
   "metadata": {
    "execution": {
     "iopub.execute_input": "2021-07-15T16:20:17.931865Z",
     "iopub.status.busy": "2021-07-15T16:20:17.931478Z",
     "iopub.status.idle": "2021-07-15T16:20:18.020048Z",
     "shell.execute_reply": "2021-07-15T16:20:18.005443Z",
     "shell.execute_reply.started": "2021-07-15T16:20:17.931809Z"
    }
   },
   "outputs": [
    {
     "data": {
      "text/plain": [
       "array([[20, 13],\n",
       "       [19, 31]])"
      ]
     },
     "execution_count": 48,
     "metadata": {},
     "output_type": "execute_result"
    }
   ],
   "source": [
    "conf_mat"
   ]
  },
  {
   "cell_type": "code",
   "execution_count": 7,
   "metadata": {
    "execution": {
     "iopub.execute_input": "2021-07-14T15:53:05.992109Z",
     "iopub.status.busy": "2021-07-14T15:53:05.991786Z",
     "iopub.status.idle": "2021-07-14T15:53:06.134905Z",
     "shell.execute_reply": "2021-07-14T15:53:06.132700Z",
     "shell.execute_reply.started": "2021-07-14T15:53:05.992073Z"
    }
   },
   "outputs": [
    {
     "data": {
      "text/plain": [
       "(9960, 46)"
      ]
     },
     "execution_count": 7,
     "metadata": {},
     "output_type": "execute_result"
    }
   ],
   "source": [
    "sample_overt.shape"
   ]
  },
  {
   "cell_type": "code",
   "execution_count": 41,
   "metadata": {
    "execution": {
     "iopub.execute_input": "2021-07-15T14:13:23.851081Z",
     "iopub.status.busy": "2021-07-15T14:13:23.847612Z",
     "iopub.status.idle": "2021-07-15T14:13:24.059235Z",
     "shell.execute_reply": "2021-07-15T14:13:24.023157Z",
     "shell.execute_reply.started": "2021-07-15T14:13:23.850997Z"
    }
   },
   "outputs": [
    {
     "data": {
      "text/plain": [
       "(9960, 46)"
      ]
     },
     "execution_count": 41,
     "metadata": {},
     "output_type": "execute_result"
    }
   ],
   "source": [
    "sample_imag.shape\n"
   ]
  },
  {
   "cell_type": "code",
   "execution_count": null,
   "metadata": {},
   "outputs": [],
   "source": []
  }
 ],
 "metadata": {
  "kernelspec": {
   "display_name": "Python 3",
   "language": "python",
   "name": "python3"
  },
  "language_info": {
   "codemirror_mode": {
    "name": "ipython",
    "version": 3
   },
   "file_extension": ".py",
   "mimetype": "text/x-python",
   "name": "python",
   "nbconvert_exporter": "python",
   "pygments_lexer": "ipython3",
   "version": "3.7.4"
  }
 },
 "nbformat": 4,
 "nbformat_minor": 4
}
