{
 "cells": [
  {
   "cell_type": "code",
   "execution_count": 37,
   "metadata": {
    "execution": {
     "iopub.execute_input": "2021-07-14T16:36:55.472846Z",
     "iopub.status.busy": "2021-07-14T16:36:55.472512Z",
     "iopub.status.idle": "2021-07-14T16:36:55.624713Z",
     "shell.execute_reply": "2021-07-14T16:36:55.602587Z",
     "shell.execute_reply.started": "2021-07-14T16:36:55.472809Z"
    }
   },
   "outputs": [
    {
     "name": "stdout",
     "output_type": "stream",
     "text": [
      "The autoreload extension is already loaded. To reload it, use:\n",
      "  %reload_ext autoreload\n"
     ]
    }
   ],
   "source": [
    "%load_ext autoreload\n",
    "%autoreload 2\n",
    "\n",
    "import sys, os\n",
    "sys.path.append('../')\n",
    "\n",
    "import numpy as np\n",
    "import matplotlib.pyplot as plt\n",
    "from sklearn import svm\n",
    "from sklearn.model_selection import train_test_split, cross_val_score\n",
    "\n",
    "from utils.load_data import alldat, pre_process, comp_avg_signal\n",
    "from utils.algo import sliding_window"
   ]
  },
  {
   "cell_type": "code",
   "execution_count": 6,
   "metadata": {
    "execution": {
     "iopub.execute_input": "2021-07-14T15:52:54.640824Z",
     "iopub.status.busy": "2021-07-14T15:52:54.639124Z",
     "iopub.status.idle": "2021-07-14T15:53:05.350874Z",
     "shell.execute_reply": "2021-07-14T15:53:05.348716Z",
     "shell.execute_reply.started": "2021-07-14T15:52:54.640714Z"
    }
   },
   "outputs": [],
   "source": [
    "nonfilter_overt = pre_process(subj=0, exp=0, hpf=50)\n",
    "nonfilter_imag = pre_process(subj=0, exp=1, hpf=50)\n",
    "sample_overt = comp_avg_signal(nonfilter_overt, 9960, 'hand')\n",
    "sample_imag = comp_avg_signal(nonfilter_imag, 9960, 'hand')\n",
    "signals = {'overt': sample_overt, 'imag': sample_imag}"
   ]
  },
  {
   "cell_type": "code",
   "execution_count": 34,
   "metadata": {
    "execution": {
     "iopub.execute_input": "2021-07-14T16:36:32.809778Z",
     "iopub.status.busy": "2021-07-14T16:36:32.809263Z",
     "iopub.status.idle": "2021-07-14T16:36:32.910211Z",
     "shell.execute_reply": "2021-07-14T16:36:32.904059Z",
     "shell.execute_reply.started": "2021-07-14T16:36:32.809732Z"
    }
   },
   "outputs": [],
   "source": [
    "def prepare_data(data, cv, **window_kwargs):\n",
    "    \"\"\"\n",
    "    data: dictionary of shape: \n",
    "            {'overt': overt_data, 'imag': imag_data}\n",
    "    cv: % test data\n",
    "    labels: 0 is overt, 1 imag\n",
    "    \"\"\"\n",
    "    _label_map = {'overt':0,'imag':1}\n",
    "    all_features = []\n",
    "    all_labels = []\n",
    "    for chan in range(46):\n",
    "        for k in signals.keys():\n",
    "            windows = sliding_window(signals[k][:,chan], **window_kwargs)\n",
    "            [all_features.append(w) for w in windows]\n",
    "            [all_labels.append(_label_map[k]) for i in range(len(windows))]\n",
    "    if cv:\n",
    "        X_train, X_test, y_train, y_test = train_test_split(all_features, all_labels, test_size=cv)\n",
    "        return X_train, X_test, y_train, y_test\n",
    "    else:\n",
    "        return all_features, all_labels\n",
    "\n",
    "X_train, X_test, y_train, y_test =  prepare_data(signals, 0.1, win=int(9960/10))\n",
    "X, y =  prepare_data(signals, None, win=int(9960/10))"
   ]
  },
  {
   "cell_type": "code",
   "execution_count": 39,
   "metadata": {
    "execution": {
     "iopub.execute_input": "2021-07-14T16:37:32.159320Z",
     "iopub.status.busy": "2021-07-14T16:37:32.157842Z",
     "iopub.status.idle": "2021-07-14T16:37:35.948756Z",
     "shell.execute_reply": "2021-07-14T16:37:35.947409Z",
     "shell.execute_reply.started": "2021-07-14T16:37:32.159245Z"
    }
   },
   "outputs": [
    {
     "data": {
      "text/plain": [
       "0.6643402879811932"
      ]
     },
     "execution_count": 39,
     "metadata": {},
     "output_type": "execute_result"
    }
   ],
   "source": [
    "clf = svm.SVC()\n",
    "# clf.fit(X_train, y_train)\n",
    "scores = cross_val_score(clf, X, y, cv=5, scoring='recall_macro')\n",
    "scores.mean(0)"
   ]
  },
  {
   "cell_type": "code",
   "execution_count": 7,
   "metadata": {
    "execution": {
     "iopub.execute_input": "2021-07-14T15:53:05.992109Z",
     "iopub.status.busy": "2021-07-14T15:53:05.991786Z",
     "iopub.status.idle": "2021-07-14T15:53:06.134905Z",
     "shell.execute_reply": "2021-07-14T15:53:06.132700Z",
     "shell.execute_reply.started": "2021-07-14T15:53:05.992073Z"
    }
   },
   "outputs": [
    {
     "data": {
      "text/plain": [
       "(9960, 46)"
      ]
     },
     "execution_count": 7,
     "metadata": {},
     "output_type": "execute_result"
    }
   ],
   "source": [
    "sample_overt.shape"
   ]
  },
  {
   "cell_type": "code",
   "execution_count": 41,
   "metadata": {
    "execution": {
     "iopub.execute_input": "2021-07-15T14:13:23.851081Z",
     "iopub.status.busy": "2021-07-15T14:13:23.847612Z",
     "iopub.status.idle": "2021-07-15T14:13:24.059235Z",
     "shell.execute_reply": "2021-07-15T14:13:24.023157Z",
     "shell.execute_reply.started": "2021-07-15T14:13:23.850997Z"
    }
   },
   "outputs": [
    {
     "data": {
      "text/plain": [
       "(9960, 46)"
      ]
     },
     "execution_count": 41,
     "metadata": {},
     "output_type": "execute_result"
    }
   ],
   "source": [
    "sample_imag.shape\n"
   ]
  },
  {
   "cell_type": "code",
   "execution_count": null,
   "metadata": {},
   "outputs": [],
   "source": []
  }
 ],
 "metadata": {
  "kernelspec": {
   "display_name": "Python 3",
   "language": "python",
   "name": "python3"
  },
  "language_info": {
   "codemirror_mode": {
    "name": "ipython",
    "version": 3
   },
   "file_extension": ".py",
   "mimetype": "text/x-python",
   "name": "python",
   "nbconvert_exporter": "python",
   "pygments_lexer": "ipython3",
   "version": "3.7.4"
  }
 },
 "nbformat": 4,
 "nbformat_minor": 4
}
